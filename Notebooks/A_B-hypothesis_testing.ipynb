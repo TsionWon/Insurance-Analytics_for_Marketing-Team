{
 "cells": [
  {
   "cell_type": "code",
   "execution_count": 1,
   "id": "6224fa51-18d2-4018-88aa-e364c0c93ba0",
   "metadata": {},
   "outputs": [],
   "source": [
    "import pandas as pd\n",
    "\n",
    "from sklearn.preprocessing import StandardScaler\n",
    "from scipy.stats import chi2_contingency, ttest_ind\n"
   ]
  },
  {
   "cell_type": "code",
   "execution_count": 7,
   "id": "6c83451b-c5ba-4006-82e8-bb34c205cf1b",
   "metadata": {},
   "outputs": [
    {
     "name": "stdout",
     "output_type": "stream",
     "text": [
      "   UnderwrittenCoverID  PolicyID     TransactionMonth  IsVATRegistered  \\\n",
      "0               145249     12827  2015-03-01 00:00:00             True   \n",
      "1               145249     12827  2015-05-01 00:00:00             True   \n",
      "2               145249     12827  2015-07-01 00:00:00             True   \n",
      "3               145255     12827  2015-05-01 00:00:00             True   \n",
      "4               145255     12827  2015-07-01 00:00:00             True   \n",
      "\n",
      "  Citizenship          LegalType Title Language                 Bank  \\\n",
      "0              Close Corporation    Mr  English  First National Bank   \n",
      "1              Close Corporation    Mr  English  First National Bank   \n",
      "2              Close Corporation    Mr  English  First National Bank   \n",
      "3              Close Corporation    Mr  English  First National Bank   \n",
      "4              Close Corporation    Mr  English  First National Bank   \n",
      "\n",
      "       AccountType  ...                    ExcessSelected CoverCategory  \\\n",
      "0  Current account  ...             Mobility - Windscreen    Windscreen   \n",
      "1  Current account  ...             Mobility - Windscreen    Windscreen   \n",
      "2  Current account  ...             Mobility - Windscreen    Windscreen   \n",
      "3  Current account  ...  Mobility - Metered Taxis - R2000    Own damage   \n",
      "4  Current account  ...  Mobility - Metered Taxis - R2000    Own damage   \n",
      "\n",
      "    CoverType            CoverGroup              Section  \\\n",
      "0  Windscreen  Comprehensive - Taxi  Motor Comprehensive   \n",
      "1  Windscreen  Comprehensive - Taxi  Motor Comprehensive   \n",
      "2  Windscreen  Comprehensive - Taxi  Motor Comprehensive   \n",
      "3  Own Damage  Comprehensive - Taxi  Motor Comprehensive   \n",
      "4  Own Damage  Comprehensive - Taxi  Motor Comprehensive   \n",
      "\n",
      "                           Product StatutoryClass StatutoryRiskType  \\\n",
      "0  Mobility Metered Taxis: Monthly     Commercial     IFRS Constant   \n",
      "1  Mobility Metered Taxis: Monthly     Commercial     IFRS Constant   \n",
      "2  Mobility Metered Taxis: Monthly     Commercial     IFRS Constant   \n",
      "3  Mobility Metered Taxis: Monthly     Commercial     IFRS Constant   \n",
      "4  Mobility Metered Taxis: Monthly     Commercial     IFRS Constant   \n",
      "\n",
      "   TotalPremium TotalClaims  \n",
      "0     21.929825         0.0  \n",
      "1     21.929825         0.0  \n",
      "2      0.000000         0.0  \n",
      "3    512.848070         0.0  \n",
      "4      0.000000         0.0  \n",
      "\n",
      "[5 rows x 52 columns]\n"
     ]
    }
   ],
   "source": [
    "# Load the data\n",
    "data = pd.read_csv('../data/MachineLearningRating_v3.txt', sep='|', low_memory=False)\n",
    "\n",
    "# Display the first few rows of the DataFrame\n",
    "print(data.head())"
   ]
  },
  {
   "cell_type": "code",
   "execution_count": 8,
   "id": "986f0de8-3dea-4cc0-83da-112a58f9d5a4",
   "metadata": {},
   "outputs": [],
   "source": [
    "data_gender = data[data['Gender'] != 'Not specified']"
   ]
  },
  {
   "cell_type": "code",
   "execution_count": 9,
   "id": "25980629-765f-44ae-b161-5f4e750d18d3",
   "metadata": {},
   "outputs": [
    {
     "data": {
      "text/plain": [
       "59108"
      ]
     },
     "execution_count": 9,
     "metadata": {},
     "output_type": "execute_result"
    }
   ],
   "source": [
    "len(data_gender['Gender'])"
   ]
  },
  {
   "cell_type": "code",
   "execution_count": 10,
   "id": "b7da8d38-20f8-4839-a7fc-a7a87c242fa7",
   "metadata": {},
   "outputs": [
    {
     "name": "stderr",
     "output_type": "stream",
     "text": [
      "C:\\Users\\Tsi\\AppData\\Local\\Temp\\ipykernel_9168\\260321138.py:1: SettingWithCopyWarning: \n",
      "A value is trying to be set on a copy of a slice from a DataFrame.\n",
      "Try using .loc[row_indexer,col_indexer] = value instead\n",
      "\n",
      "See the caveats in the documentation: https://pandas.pydata.org/pandas-docs/stable/user_guide/indexing.html#returning-a-view-versus-a-copy\n",
      "  data_gender['Gender'] = (data_gender['Gender'] == 'Male').astype(int)\n"
     ]
    }
   ],
   "source": [
    "data_gender['Gender'] = (data_gender['Gender'] == 'Male').astype(int)\n",
    "data_gender = data_gender[['TotalPremium','TotalClaims', 'SumInsured', 'Gender']]"
   ]
  },
  {
   "cell_type": "code",
   "execution_count": 11,
   "id": "adee788d",
   "metadata": {},
   "outputs": [
    {
     "name": "stdout",
     "output_type": "stream",
     "text": [
      "Accept the null hypothesis. There is no a significant risk difference between zip codes.\n"
     ]
    },
    {
     "name": "stderr",
     "output_type": "stream",
     "text": [
      "f:\\code\\installation\\Lib\\site-packages\\scipy\\stats\\_stats_py.py:7030: RuntimeWarning: invalid value encountered in scalar divide\n",
      "  svar = ((n1 - 1) * v1 + (n2 - 1) * v2) / df\n"
     ]
    }
   ],
   "source": [
    "#H0 null hypotesis\n",
    "#H1 alternative hypotesis\n",
    "sample1_data, sample2_data = data.sample(), data.sample()\n",
    "\n",
    "zipa_data, zipb_data = sample1_data['TotalClaims'], sample2_data['TotalClaims'] \n",
    "t_stat, p_value  = ttest_ind(zipa_data, zipb_data)\n",
    "\n",
    "alpha = 0.05\n",
    "\n",
    "if p_value < alpha:\n",
    "    print(\"Reject the null hypothesis. There is a significant risk diffrenece between zip codes.\")\n",
    "else:\n",
    "    print(\"Accept the null hypothesis. There is no a significant risk difference between zip codes.\")"
   ]
  },
  {
   "cell_type": "code",
   "execution_count": 12,
   "id": "58104b31",
   "metadata": {},
   "outputs": [
    {
     "name": "stdout",
     "output_type": "stream",
     "text": [
      "Accept the null hypothesis. There is no a significant risk difference between Province\n"
     ]
    }
   ],
   "source": [
    "contingency_table = pd.crosstab(data['Province'], data['TotalClaims'])\n",
    "chi2, p_value, _, _ = chi2_contingency(contingency_table)\n",
    "\n",
    "alpha = 0.05\n",
    "\n",
    "if p_value < alpha:\n",
    "    print(\"Reject the null hypothesis. There is a significant risk diffrenece between Province\")\n",
    "else:\n",
    "    print(\"Accept the null hypothesis. There is no a significant risk difference between Province\")"
   ]
  },
  {
   "cell_type": "code",
   "execution_count": 13,
   "id": "06d26546",
   "metadata": {},
   "outputs": [
    {
     "name": "stdout",
     "output_type": "stream",
     "text": [
      "Accept the null hypothesis. There is no a significant risk difference between Male and woman\n"
     ]
    }
   ],
   "source": [
    "# female_outcomes = df[df['Gender'] == 'Female']['TotalClaims']\n",
    "# male_outcomes = df_gender[df['Gender'] == 1]['TotalClaims']\n",
    "\n",
    "contingency_table_gender = pd.crosstab(data['Gender'], data['TotalClaims'])\n",
    "chi2_gender, p_value_gender, _, _ = chi2_contingency(contingency_table_gender)\n",
    "\n",
    "alpha = 0.05\n",
    "\n",
    "if p_value < alpha:\n",
    "    print(\"Reject the null hypothesis. There is a significant risk diffrenece between Male and woman\")\n",
    "else:\n",
    "    print(\"Accept the null hypothesis. There is no a significant risk difference between Male and woman\")"
   ]
  }
 ],
 "metadata": {
  "kernelspec": {
   "display_name": "Python 3 (ipykernel)",
   "language": "python",
   "name": "python3"
  },
  "language_info": {
   "codemirror_mode": {
    "name": "ipython",
    "version": 3
   },
   "file_extension": ".py",
   "mimetype": "text/x-python",
   "name": "python",
   "nbconvert_exporter": "python",
   "pygments_lexer": "ipython3",
   "version": "3.11.5"
  }
 },
 "nbformat": 4,
 "nbformat_minor": 5
}
