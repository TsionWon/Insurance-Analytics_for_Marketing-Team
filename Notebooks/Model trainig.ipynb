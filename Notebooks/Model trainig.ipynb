{
 "cells": [
  {
   "cell_type": "code",
   "execution_count": null,
   "id": "6224fa51-18d2-4018-88aa-e364c0c93ba0",
   "metadata": {},
   "outputs": [],
   "source": [
    "import pandas as pd\n",
    "\n",
    "from sklearn.preprocessing import StandardScaler\n",
    "from scipy.stats import chi2_contingency, ttest_ind\n"
   ]
  },
  {
   "cell_type": "code",
   "execution_count": null,
   "id": "6c83451b-c5ba-4006-82e8-bb34c205cf1b",
   "metadata": {},
   "outputs": [],
   "source": [
    "# Load the data\n",
    "data = pd.read_csv('../data/MachineLearningRating_v3.txt', sep='|', low_memory=False)\n",
    "\n",
    "# Display the first few rows of the DataFrame\n",
    "print(data.head())"
   ]
  },
  {
   "cell_type": "code",
   "execution_count": null,
   "id": "986f0de8-3dea-4cc0-83da-112a58f9d5a4",
   "metadata": {},
   "outputs": [],
   "source": [
    "df_gender = df[df['Gender'] != 'Not specified']"
   ]
  },
  {
   "cell_type": "code",
   "execution_count": null,
   "id": "25980629-765f-44ae-b161-5f4e750d18d3",
   "metadata": {},
   "outputs": [],
   "source": [
    "len(df_gender['Gender'])"
   ]
  },
  {
   "cell_type": "code",
   "execution_count": null,
   "id": "b7da8d38-20f8-4839-a7fc-a7a87c242fa7",
   "metadata": {},
   "outputs": [],
   "source": []
  }
 ],
 "metadata": {
  "kernelspec": {
   "display_name": "Python 3 (ipykernel)",
   "language": "python",
   "name": "python3"
  },
  "language_info": {
   "codemirror_mode": {
    "name": "ipython",
    "version": 3
   },
   "file_extension": ".py",
   "mimetype": "text/x-python",
   "name": "python",
   "nbconvert_exporter": "python",
   "pygments_lexer": "ipython3",
   "version": "3.11.5"
  }
 },
 "nbformat": 4,
 "nbformat_minor": 5
}
